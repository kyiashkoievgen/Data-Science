{
 "cells": [
  {
   "cell_type": "markdown",
   "id": "3d92b8f7",
   "metadata": {},
   "source": [
    "Задание 1\n",
    "Загрузите модуль pyplot библиотеки matplotlib с псевдонимом plt, а также библиотеку numpy с\n",
    "псевдонимом np.\n",
    "Примените магическую функцию %matplotlib inline для отображения графиков в Jupyter Notebook и\n",
    "настройки конфигурации ноутбука со значением 'svg' для более четкого отображения графиков.\n",
    "Создайте список под названием x с числами 1, 2, 3, 4, 5, 6, 7 и список y с числами 3.5, 3.8, 4.2, 4.5, 5,\n",
    "5.5, 7.\n",
    "С помощью функции plot постройте график, соединяющий линиями точки с горизонтальными\n",
    "координатами из списка x и вертикальными - из списка y.\n",
    "Затем в следующей ячейке постройте диаграмму рассеяния (другие названия - диаграмма разброса,\n",
    "scatter plot)."
   ]
  },
  {
   "cell_type": "code",
   "execution_count": 1,
   "id": "c72e5409",
   "metadata": {},
   "outputs": [],
   "source": [
    "from matplotlib import pyplot as plt\n",
    "import numpy as np\n",
    "import pandas as pn\n",
    "%matplotlib inline\n",
    "x = [1, 2, 3, 4, 5, 6, 7]\n",
    "y = [3.5, 3.8, 4.2, 4.5, 5, 5.5, 7]"
   ]
  },
  {
   "cell_type": "code",
   "execution_count": 2,
   "id": "878d1945",
   "metadata": {},
   "outputs": [
    {
     "data": {
      "image/png": "[encoded data removed]",
      "text/plain": [
       "<Figure size 432x288 with 1 Axes>"
      ]
     },
     "metadata": {
      "needs_background": "light"
     },
     "output_type": "display_data"
    }
   ],
   "source": [
    "plt.plot(x, y)\n",
    "plt.show()"
   ]
  },
  {
   "cell_type": "code",
   "execution_count": 3,
   "id": "3e5402b6",
   "metadata": {},
   "outputs": [
    {
     "data": {
      "image/png": "[encoded data removed]",
      "text/plain": [
       "<Figure size 432x288 with 1 Axes>"
      ]
     },
     "metadata": {
      "needs_background": "light"
     },
     "output_type": "display_data"
    }
   ],
   "source": [
    "plt.scatter(x, y)\n",
    "plt.show()"
   ]
  },
  {
   "cell_type": "markdown",
   "id": "7fd6a6ad",
   "metadata": {},
   "source": [
    "Задание 2\n",
    "С помощью функции linspace из библиотеки Numpy создайте массив t из 51 числа от 0 до 10\n",
    "включительно. Создайте массив Numpy под названием f, содержащий косинусы элементов массива t.\n",
    "Постройте линейную диаграмму, используя массив t для координат по горизонтали,а массив f - для\n",
    "координат по вертикали. Линия графика должна быть зеленого цвета.\n",
    "Выведите название диаграммы - 'График f(t)'. Также добавьте названия для горизонтальной оси -\n",
    "'Значения t' и для вертикальной - 'Значения f'.\n",
    "Ограничьте график по оси x значениями 0.5 и 9.5, а по оси y - значениями -2.5 и 2.5."
   ]
  },
  {
   "cell_type": "code",
   "execution_count": 4,
   "id": "d8f014a4",
   "metadata": {},
   "outputs": [
    {
     "data": {
      "text/plain": [
       "array([ 0. ,  0.2,  0.4,  0.6,  0.8,  1. ,  1.2,  1.4,  1.6,  1.8,  2. ,\n",
       "        2.2,  2.4,  2.6,  2.8,  3. ,  3.2,  3.4,  3.6,  3.8,  4. ,  4.2,\n",
       "        4.4,  4.6,  4.8,  5. ,  5.2,  5.4,  5.6,  5.8,  6. ,  6.2,  6.4,\n",
       "        6.6,  6.8,  7. ,  7.2,  7.4,  7.6,  7.8,  8. ,  8.2,  8.4,  8.6,\n",
       "        8.8,  9. ,  9.2,  9.4,  9.6,  9.8, 10. ])"
      ]
     },
     "execution_count": 4,
     "metadata": {},
     "output_type": "execute_result"
    }
   ],
   "source": [
    "t = np.linspace(0, 10, 51)\n",
    "t"
   ]
  },
  {
   "cell_type": "code",
   "execution_count": 5,
   "id": "9aa0227b",
   "metadata": {},
   "outputs": [
    {
     "data": {
      "text/plain": [
       "array([ 1.        ,  0.98006658,  0.92106099,  0.82533561,  0.69670671,\n",
       "        0.54030231,  0.36235775,  0.16996714, -0.02919952, -0.22720209,\n",
       "       -0.41614684, -0.58850112, -0.73739372, -0.85688875, -0.94222234,\n",
       "       -0.9899925 , -0.99829478, -0.96679819, -0.89675842, -0.79096771,\n",
       "       -0.65364362, -0.49026082, -0.30733287, -0.11215253,  0.08749898,\n",
       "        0.28366219,  0.46851667,  0.63469288,  0.77556588,  0.88551952,\n",
       "        0.96017029,  0.9965421 ,  0.99318492,  0.95023259,  0.86939749,\n",
       "        0.75390225,  0.60835131,  0.43854733,  0.25125984,  0.05395542,\n",
       "       -0.14550003, -0.33915486, -0.51928865, -0.67872005, -0.81109301,\n",
       "       -0.91113026, -0.97484362, -0.99969304, -0.98468786, -0.93042627,\n",
       "       -0.83907153])"
      ]
     },
     "execution_count": 5,
     "metadata": {},
     "output_type": "execute_result"
    }
   ],
   "source": [
    "f = np.cos(t)\n",
    "f"
   ]
  },
  {
   "cell_type": "code",
   "execution_count": 6,
   "id": "57e82226",
   "metadata": {},
   "outputs": [
    {
     "data": {
      "image/png": "[encoded data removed]",
      "text/plain": [
       "<Figure size 432x288 with 1 Axes>"
      ]
     },
     "metadata": {
      "needs_background": "light"
     },
     "output_type": "display_data"
    }
   ],
   "source": [
    "plt.axis([0.5, 9.5, -2.5, 2.5])\n",
    "plt.plot(t, f, color = \"green\")\n",
    "plt.title('График f(t)')\n",
    "plt.xlabel('Значения t')\n",
    "plt.ylabel('Значения f')\n",
    "plt.show()"
   ]
  },
  {
   "cell_type": "markdown",
   "id": "2632bf42",
   "metadata": {},
   "source": [
    "*Задание 3\n",
    "С помощью функции linspace библиотеки Numpy создайте массив x из 51 числа от -3 до 3\n",
    "включительно.\n",
    "Создайте массивы y1, y2, y3, y4 по следующим формулам:\n",
    "y1 = x**2\n",
    "y2 = 2 * x + 0.5\n",
    "y3 = -3 * x - 1.5\n",
    "y4 = sin(x)\n",
    "Используя функцию subplots модуля matplotlib.pyplot, создайте объект matplotlib.figure.Figure с\n",
    "названием fig и массив объектов Axes под названием ax,причем так, чтобы у вас было 4 отдельных\n",
    "графика в сетке, состоящей из двух строк и двух столбцов. В каждом графике массив x используется\n",
    "для координат по горизонтали.В левом верхнем графике для координат по вертикали используйте\n",
    "y1,в правом верхнем - y2, в левом нижнем - y3, в правом нижнем - y4.Дайте название графикам:\n",
    "'График y1', 'График y2' и т.д.\n",
    "Для графика в левом верхнем углу установите границы по оси x от -5 до 5.\n",
    "Установите размеры фигуры 8 дюймов по горизонтали и 6 дюймов по вертикали.\n",
    "Вертикальные и горизонтальные зазоры между графиками должны составлять 0.3."
   ]
  },
  {
   "cell_type": "code",
   "execution_count": 7,
   "id": "85a98f33",
   "metadata": {},
   "outputs": [
    {
     "data": {
      "image/png": "[encoded data removed]",
      "text/plain": [
       "<Figure size 576x432 with 4 Axes>"
      ]
     },
     "metadata": {
      "needs_background": "light"
     },
     "output_type": "display_data"
    }
   ],
   "source": [
    "x = np.linspace(-3, 3, 51)\n",
    "y1 = x**2\n",
    "y2 = 2 * x + 0.5\n",
    "y3 = -3 * x - 1.5\n",
    "y4 = np.sin(x)\n",
    "fig, ax = plt.subplots(nrows=2, ncols=2)\n",
    "ax1, ax2, ax3, ax4 = ax.flatten()\n",
    "ax1.plot(x,y1)\n",
    "ax1.set_title('График y1')\n",
    "ax1.set_xlim(-5, 5)\n",
    "ax2.plot(x,y2)\n",
    "ax2.set_title('График y2')\n",
    "ax3.plot(x,y3)\n",
    "ax3.set_title('График y3')\n",
    "ax4.plot(x,y4)\n",
    "ax4.set_title('График y4')\n",
    "fig.set_size_inches(8, 6)\n",
    "plt.subplots_adjust(wspace = 0.3, hspace = 0.3)"
   ]
  },
  {
   "cell_type": "markdown",
   "id": "0bb908cd",
   "metadata": {},
   "source": [
    "*Задание 4\n",
    "В этом задании мы будем работать с датасетом, в котором приведены данные по мошенничеству с\n",
    "кредитными данными: Credit Card Fraud Detection (информация об авторах: Andrea Dal Pozzolo, Olivier\n",
    "Caelen, Reid A. Johnson and Gianluca Bontempi. Calibrating Probability with Undersampling for Unbalanced\n",
    "Classification. In Symposium on Computational Intelligence and Data Mining (CIDM), IEEE, 2015).\n",
    "Ознакомьтесь с описанием и скачайте датасет creditcard.csv с сайта Kaggle.com по ссылке:\n",
    "Credit Card Fraud Detection\n",
    "Данный датасет является примером несбалансированных данных, так как мошеннические операции с\n",
    "картами встречаются реже обычных.\n",
    "Импортируйте библиотеку Pandas, а также используйте для графиков стиль “fivethirtyeight”.Посчитайте с помощью метода value_counts количество наблюдений для каждого значения целевой\n",
    "переменной Class и примените к полученным данным метод plot, чтобы построить столбчатую\n",
    "диаграмму. Затем постройте такую же диаграмму, используя логарифмический масштаб.\n",
    "На следующем графике постройте две гистограммы по значениям признака V1 - одну для\n",
    "мошеннических транзакций (Class равен 1) и другую - для обычных (Class равен 0). Подберите\n",
    "значение аргумента density так, чтобы по вертикали графика было расположено не число\n",
    "наблюдений, а плотность распределения. Число бинов должно равняться 20 для обеих гистограмм, а\n",
    "коэффициент alpha сделайте равным 0.5, чтобы гистограммы были полупрозрачными и не\n",
    "загораживали друг друга. Создайте легенду с двумя значениями: “Class 0” и “Class 1”. Гистограмма\n",
    "обычных транзакций должна быть серого цвета, а мошеннических - красного. Горизонтальной оси\n",
    "дайте название “V1”."
   ]
  },
  {
   "cell_type": "code",
   "execution_count": 8,
   "id": "db648def",
   "metadata": {},
   "outputs": [],
   "source": [
    "fd = pn.read_csv('creditcard.csv', sep=',')\n",
    "cl = pn.Series( fd['Class'].value_counts())"
   ]
  },
  {
   "cell_type": "code",
   "execution_count": 9,
   "id": "47426783",
   "metadata": {},
   "outputs": [
    {
     "data": {
      "image/png": "[encoded data removed]",
      "text/plain": [
       "<Figure size 432x288 with 1 Axes>"
      ]
     },
     "metadata": {},
     "output_type": "display_data"
    }
   ],
   "source": [
    "plt.style.use('fivethirtyeight')\n",
    "cl.plot(kind=\"bar\",title='test')\n",
    "plt.show()"
   ]
  },
  {
   "cell_type": "code",
   "execution_count": 10,
   "id": "9b7c7e21",
   "metadata": {},
   "outputs": [
    {
     "data": {
      "image/png": "[encoded data removed]",
      "text/plain": [
       "<Figure size 432x288 with 1 Axes>"
      ]
     },
     "metadata": {},
     "output_type": "display_data"
    }
   ],
   "source": [
    "plt.style.use('fivethirtyeight')\n",
    "cl.plot(kind=\"bar\", logy=True)\n",
    "plt.show() "
   ]
  },
  {
   "cell_type": "code",
   "execution_count": 59,
   "id": "ed32c636",
   "metadata": {},
   "outputs": [
    {
     "data": {
      "text/plain": [
       "count    2.848070e+05\n",
       "mean     1.168375e-15\n",
       "std      1.958696e+00\n",
       "min     -5.640751e+01\n",
       "25%     -9.203734e-01\n",
       "50%      1.810880e-02\n",
       "75%      1.315642e+00\n",
       "max      2.454930e+00\n",
       "Name: V1, dtype: float64"
      ]
     },
     "execution_count": 59,
     "metadata": {},
     "output_type": "execute_result"
    }
   ],
   "source": [
    "fd['V1'].describe()"
   ]
  },
  {
   "cell_type": "code",
   "execution_count": 101,
   "id": "064077c6",
   "metadata": {
    "scrolled": true
   },
   "outputs": [
    {
     "data": {
      "image/png": "[encoded data removed]",
      "text/plain": [
       "<Figure size 432x288 with 1 Axes>"
      ]
     },
     "metadata": {},
     "output_type": "display_data"
    }
   ],
   "source": [
    "plt.style.use('fivethirtyeight')\n",
    "cl0=fd.loc[fd['Class']==0, 'V1']\n",
    "cl1=fd.loc[fd['Class']==1, 'V1']\n",
    "plt.hist(cl1, bins=20, alpha=0.5, color='red', density = True)\n",
    "plt.hist(cl0, bins=20, alpha=0.5, color='grey', density = True)\n",
    "plt.legend(labels=['Class 1', 'Class 0'])\n",
    "plt.xlabel('V1')\n",
    "plt.show()"
   ]
  },
  {
   "cell_type": "markdown",
   "id": "27935e4d",
   "metadata": {},
   "source": [
    "Создать одномерный массив Numpy под названием a из 12 последовательных целых чисел\n",
    "чисел от 12 до 24 невключительно"
   ]
  },
  {
   "cell_type": "code",
   "execution_count": 126,
   "id": "a6f8d7a6",
   "metadata": {},
   "outputs": [
    {
     "name": "stdout",
     "output_type": "stream",
     "text": [
      "[16 14 13 20 19 17 23 13 22 17 15 16]\n"
     ]
    }
   ],
   "source": [
    "a = np.random.randint(13, 24, 12)\n",
    "print(a)"
   ]
  },
  {
   "cell_type": "markdown",
   "id": "33d0452c",
   "metadata": {},
   "source": [
    "Создать 5 двумерных массивов разной формы из массива a. Не использовать в аргументах\n",
    "метода reshape число -1."
   ]
  },
  {
   "cell_type": "code",
   "execution_count": 139,
   "id": "bbb65332",
   "metadata": {},
   "outputs": [
    {
     "name": "stdout",
     "output_type": "stream",
     "text": [
      "[[16 14 13 20 19 17]\n",
      " [23 13 22 17 15 16]]\n",
      "[[16 14 13]\n",
      " [20 19 17]]\n",
      "[[16 14 13 20]\n",
      " [19 17 23 13]\n",
      " [22 17 15 16]]\n",
      "[[16 14 13]\n",
      " [20 19 17]\n",
      " [23 13 22]\n",
      " [17 15 16]]\n",
      "[[16 14]\n",
      " [13 20]\n",
      " [19 17]\n",
      " [23 13]\n",
      " [22 17]\n",
      " [15 16]]\n"
     ]
    }
   ],
   "source": [
    "a1 = np.reshape(a, (2,6))\n",
    "print(a1)\n",
    "a2 = np.reshape(a1[0], (2,3))\n",
    "print(a2)\n",
    "a3 = np.reshape(a, (3,4))\n",
    "print(a3)\n",
    "a4 = np.reshape(a, (4,3))\n",
    "print(a4)\n",
    "a5 = np.reshape(a, (6,2))\n",
    "print(a5)"
   ]
  },
  {
   "cell_type": "markdown",
   "id": "795a44ca",
   "metadata": {},
   "source": [
    "Создать 5 двумерных массивов разной формы из массива a. Использовать в аргументах\n",
    "метода reshape число -1 (в трех примерах - для обозначения числа столбцов, в двух - для\n",
    "строк)."
   ]
  },
  {
   "cell_type": "code",
   "execution_count": 145,
   "id": "6a45b45f",
   "metadata": {},
   "outputs": [
    {
     "name": "stdout",
     "output_type": "stream",
     "text": [
      "[[16 14 13 20 19 17]\n",
      " [23 13 22 17 15 16]]\n",
      "[[16 14 13]\n",
      " [20 19 17]]\n",
      "[[16 14 13 20]\n",
      " [19 17 23 13]\n",
      " [22 17 15 16]]\n",
      "[[16 14 13]\n",
      " [20 19 17]\n",
      " [23 13 22]\n",
      " [17 15 16]]\n",
      "[[16 14]\n",
      " [13 20]\n",
      " [19 17]\n",
      " [23 13]\n",
      " [22 17]\n",
      " [15 16]]\n"
     ]
    }
   ],
   "source": [
    "a1 = np.reshape(a, (2,-1))\n",
    "print(a1)\n",
    "a2 = np.reshape(a1[0], (2,-1))\n",
    "print(a2)\n",
    "a3 = np.reshape(a, (3,-1))\n",
    "print(a3)\n",
    "a4 = np.reshape(a, (4,-1))\n",
    "print(a4)\n",
    "a5 = np.reshape(a, (-1,2))\n",
    "print(a5)"
   ]
  },
  {
   "cell_type": "markdown",
   "id": "f58e50a3",
   "metadata": {},
   "source": [
    "Можно ли массив Numpy, состоящий из одного столбца и 12 строк, назвать одномерным?"
   ]
  },
  {
   "cell_type": "markdown",
   "id": "d87a1d28",
   "metadata": {},
   "source": [
    "да"
   ]
  },
  {
   "cell_type": "markdown",
   "id": "3bff7c05",
   "metadata": {},
   "source": [
    "Создать массив из 3 строк и 4 столбцов, состоящий из случайных чисел с плавающей запятой\n",
    "из нормального распределения со средним, равным 0 и среднеквадратичным отклонением,\n",
    "равным 1.0. Получить из этого массива одномерный массив с таким же атрибутом size, как и\n",
    "исходный массив."
   ]
  },
  {
   "cell_type": "code",
   "execution_count": 200,
   "id": "14054a05",
   "metadata": {},
   "outputs": [
    {
     "data": {
      "text/plain": [
       "array([ 5.77168255e+02,  4.40667057e+02,  5.97579440e+02,  2.62953319e+02,\n",
       "       -2.39050662e+00,  9.25319802e-01,  1.11840767e+00,  4.28188307e-01,\n",
       "        2.15685548e-01,  3.12443913e+00,  9.17616849e-02,  2.05147336e+00])"
      ]
     },
     "execution_count": 200,
     "metadata": {},
     "output_type": "execute_result"
    }
   ],
   "source": [
    "a1 = np.random.uniform(1,1000,size=4)\n",
    "a2 = np.random.normal(size=4)\n",
    "a3 = np.random.chisquare(1,4)\n",
    "a4 = np.array([a1,a2,a3])\n",
    "a4.flatten()"
   ]
  },
  {
   "cell_type": "markdown",
   "id": "0d0bcdd8",
   "metadata": {},
   "source": [
    "Создать массив a, состоящий из целых чисел, убывающих от 20 до 0 невключительно с\n",
    "интервалом 2."
   ]
  },
  {
   "cell_type": "code",
   "execution_count": 206,
   "id": "30858e04",
   "metadata": {},
   "outputs": [
    {
     "data": {
      "text/plain": [
       "array([18, 16, 14, 12, 10,  8,  6,  4,  2])"
      ]
     },
     "execution_count": 206,
     "metadata": {},
     "output_type": "execute_result"
    }
   ],
   "source": [
    "np.arange(18, 0, -2)"
   ]
  },
  {
   "cell_type": "markdown",
   "id": "d0615055",
   "metadata": {},
   "source": [
    "Создать массив b, состоящий из 1 строки и 10 столбцов: целых чисел, убывающих от 20 до 1\n",
    "невключительно с интервалом 2. В чем разница между массивами a и b?"
   ]
  },
  {
   "cell_type": "code",
   "execution_count": 205,
   "id": "9d7611c2",
   "metadata": {},
   "outputs": [
    {
     "data": {
      "text/plain": [
       "array([18, 16, 14, 12, 10,  8,  6,  4,  2])"
      ]
     },
     "execution_count": 205,
     "metadata": {},
     "output_type": "execute_result"
    }
   ],
   "source": [
    "np.arange(18, 1, -2)"
   ]
  },
  {
   "cell_type": "markdown",
   "id": "0aa27749",
   "metadata": {},
   "source": [
    "Вертикально соединить массивы a и b. a - двумерный массив из нулей, число строк которого\n",
    "больше 1 и на 1 меньше, чем число строк двумерного массива b, состоящего из единиц.\n",
    "Итоговый массив v должен иметь атрибут size, равный 10."
   ]
  },
  {
   "cell_type": "code",
   "execution_count": 208,
   "id": "6655e322",
   "metadata": {},
   "outputs": [
    {
     "name": "stdout",
     "output_type": "stream",
     "text": [
      "[[0 0]\n",
      " [0 0]\n",
      " [0 0]\n",
      " [1 1]\n",
      " [1 1]]\n"
     ]
    }
   ],
   "source": [
    "a = np.array([[0, 0], [0, 0], [0, 0]])\n",
    "b = np.array([[1, 1], [1, 1]])\n",
    "v = np.concatenate((a,b), axis=0)\n",
    "print(v)"
   ]
  },
  {
   "cell_type": "markdown",
   "id": "b0940de7",
   "metadata": {},
   "source": [
    "Создать одномерный массив а, состоящий из последовательности целых чисел от 0 до 12.\n",
    "Поменять форму этого массива, чтобы получилась матрица A (двумерный массив Numpy),\n",
    "состоящая из 4 строк и 3 столбцов. Получить матрицу At путем транспонирования матрицы A.\n",
    "Получить матрицу B, умножив матрицу A на матрицу At с помощью матричного умножения.\n",
    "Какой размер имеет матрица B? Получится ли вычислить обратную матрицу для матрицы B и\n",
    "почему?"
   ]
  },
  {
   "cell_type": "code",
   "execution_count": 223,
   "id": "88d94701",
   "metadata": {},
   "outputs": [
    {
     "name": "stdout",
     "output_type": "stream",
     "text": [
      "[[ 0  1  2]\n",
      " [ 3  4  5]\n",
      " [ 6  7  8]\n",
      " [ 9 10 11]] \n",
      "\n",
      " [[ 0  3  6  9]\n",
      " [ 1  4  7 10]\n",
      " [ 2  5  8 11]] \n",
      "\n",
      " [[  5  14  23  32]\n",
      " [ 14  50  86 122]\n",
      " [ 23  86 149 212]\n",
      " [ 32 122 212 302]]\n"
     ]
    }
   ],
   "source": [
    "a = np.arange(12)\n",
    "A = np.reshape(a, (4,3))\n",
    "At = A.transpose()\n",
    "B = np.dot(A,At)\n",
    "print(A,'\\n\\n', At, '\\n\\n', B)"
   ]
  },
  {
   "cell_type": "markdown",
   "id": "2d2352e0",
   "metadata": {},
   "source": [
    "Инициализируйте генератор случайных числе с помощью объекта seed, равного 42."
   ]
  },
  {
   "cell_type": "code",
   "execution_count": 230,
   "id": "438a794a",
   "metadata": {},
   "outputs": [],
   "source": [
    "np.random.seed(42)"
   ]
  },
  {
   "cell_type": "markdown",
   "id": "48adcde0",
   "metadata": {},
   "source": [
    "Создайте одномерный массив c, составленный из последовательности 16-ти случайных\n",
    "равномерно распределенных целых чисел от 0 до 16 невключительно."
   ]
  },
  {
   "cell_type": "code",
   "execution_count": 231,
   "id": "e0ded89b",
   "metadata": {},
   "outputs": [
    {
     "data": {
      "text/plain": [
       "array([ 6,  3, 12, 14, 10,  7, 12,  4,  6,  9,  2,  6, 10, 10,  7,  4])"
      ]
     },
     "execution_count": 231,
     "metadata": {},
     "output_type": "execute_result"
    }
   ],
   "source": [
    "c = np.random.randint(0, 16, size=16)\n",
    "c"
   ]
  },
  {
   "cell_type": "markdown",
   "id": "eb2d84c5",
   "metadata": {},
   "source": [
    "Поменяйте его форму так, чтобы получилась квадратная матрица C. Получите матрицу D,\n",
    "поэлементно прибавив матрицу B из предыдущего вопроса к матрице C, умноженной на 10.\n",
    "Вычислите определитель, ранг и обратную матрицу D_inv для D."
   ]
  },
  {
   "cell_type": "code",
   "execution_count": 238,
   "id": "078ffffd",
   "metadata": {},
   "outputs": [
    {
     "name": "stdout",
     "output_type": "stream",
     "text": [
      "[[  5  14  23  32]\n",
      " [ 14  50  86 122]\n",
      " [ 23  86 149 212]\n",
      " [ 32 122 212 302]] \n",
      "\n",
      " [[ 6  3 12 14]\n",
      " [10  7 12  4]\n",
      " [ 6  9  2  6]\n",
      " [10 10  7  4]] \n",
      "\n",
      " [[ 65  44 143 172]\n",
      " [114 120 206 162]\n",
      " [ 83 176 169 272]\n",
      " [132 222 282 342]] \n",
      "\n",
      " -28511999.999999944 \n",
      "\n",
      " 4 \n",
      "\n",
      " [[ 0.00935396  0.04486532  0.05897517 -0.07286055]\n",
      " [-0.01503577 -0.00122896 -0.00192971  0.00967873]\n",
      " [-0.00356692 -0.01782828 -0.04152146  0.04326178]\n",
      " [ 0.00909091 -0.00181818  0.01272727 -0.01090909]]\n"
     ]
    }
   ],
   "source": [
    "C = np.reshape(c, (4, 4))\n",
    "D = B + C*10\n",
    "det = np.linalg.det(D)\n",
    "rang = np.linalg.matrix_rank(D)\n",
    "D_inv = np.linalg.inv(D)\n",
    "print(B, '\\n\\n', C,'\\n\\n', D, '\\n\\n', det, '\\n\\n', rang, '\\n\\n', D_inv)\n"
   ]
  },
  {
   "cell_type": "markdown",
   "id": "3dcbf948",
   "metadata": {},
   "source": [
    "Приравняйте к нулю отрицательные числа в матрице D_inv, а положительные - к единице.\n",
    "Убедитесь, что в матрице D_inv остались только нули и единицы. С помощью функции\n",
    "numpy.where, используя матрицу D_inv в качестве маски, а матрицы B и C - в качестве\n",
    "источников данных, получите матрицу E размером 4x4. Элементы матрицы E, для которых\n",
    "соответствующий элемент матрицы D_inv равен 1, должны быть равны соответствующему\n",
    "элементу матрицы B, а элементы матрицы E, для которых соответствующий элементматрицы\n",
    "D_inv равен 0, должны быть равны соответствующему элементу матрицы C.\n"
   ]
  },
  {
   "cell_type": "code",
   "execution_count": 240,
   "id": "8b72d99a",
   "metadata": {},
   "outputs": [
    {
     "name": "stdout",
     "output_type": "stream",
     "text": [
      "[[1 1 1 0]\n",
      " [0 0 0 1]\n",
      " [0 0 0 1]\n",
      " [1 0 1 0]]\n"
     ]
    }
   ],
   "source": [
    "D_inv=np.where(D_inv<=0, 0, 1)\n",
    "print(D_inv)"
   ]
  },
  {
   "cell_type": "code",
   "execution_count": 241,
   "id": "8edcfb19",
   "metadata": {},
   "outputs": [
    {
     "data": {
      "text/plain": [
       "array([[  5,  14,  23,  14],\n",
       "       [ 10,   7,  12, 122],\n",
       "       [  6,   9,   2, 212],\n",
       "       [ 32,  10, 212,   4]])"
      ]
     },
     "execution_count": 241,
     "metadata": {},
     "output_type": "execute_result"
    }
   ],
   "source": [
    "np.where(D_inv, B, C)"
   ]
  }
 ],
 "metadata": {
  "kernelspec": {
   "display_name": "Python 3 (ipykernel)",
   "language": "python",
   "name": "python3"
  },
  "language_info": {
   "codemirror_mode": {
    "name": "ipython",
    "version": 3
   },
   "file_extension": ".py",
   "mimetype": "text/x-python",
   "name": "python",
   "nbconvert_exporter": "python",
   "pygments_lexer": "ipython3",
   "version": "3.9.7"
  }
 },
 "nbformat": 4,
 "nbformat_minor": 5
}
